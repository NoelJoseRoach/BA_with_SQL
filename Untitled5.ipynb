{
  "nbformat": 4,
  "nbformat_minor": 0,
  "metadata": {
    "colab": {
      "name": "Untitled5.ipynb",
      "provenance": []
    },
    "kernelspec": {
      "name": "python3",
      "display_name": "Python 3"
    },
    "language_info": {
      "name": "python"
    }
  },
  "cells": [
    {
      "cell_type": "code",
      "execution_count": 1,
      "metadata": {
        "colab": {
          "base_uri": "https://localhost:8080/"
        },
        "id": "VRK-nbcP2TGM",
        "outputId": "c81378d4-adc8-4f34-da01-b4a357896241"
      },
      "outputs": [
        {
          "output_type": "stream",
          "name": "stdout",
          "text": [
            "Opened database successfully\n"
          ]
        }
      ],
      "source": [
        "import sqlite3\n",
        "\n",
        "conn = sqlite3.connect('test.db')\n",
        "\n",
        "print(\"Opened database successfully\")"
      ]
    },
    {
      "cell_type": "code",
      "source": [
        "import sqlite3\n",
        "\n",
        "NK= sqlite3.connect('NK.db')\n",
        "\n",
        "print(\"Opened database successfully\")"
      ],
      "metadata": {
        "colab": {
          "base_uri": "https://localhost:8080/"
        },
        "id": "DAV6KalG2yry",
        "outputId": "f4c9056c-60f9-43e6-87cc-56215d3ec06e"
      },
      "execution_count": 2,
      "outputs": [
        {
          "output_type": "stream",
          "name": "stdout",
          "text": [
            "Opened database successfully\n"
          ]
        }
      ]
    },
    {
      "cell_type": "code",
      "source": [
        "import sqlite3\n",
        "\n",
        "conn=sqlite3.connect('NeDB.db')\n",
        "cursor=com.cursor()\n",
        "cursor.execute(\"DROP TABLE IF EXISTS EMPLOYEE\")\n",
        "\n",
        "X='''CREATE TABLE IF NOT EXISTS projects (id integer PRIMARY KEY,name text NOT NULL,begin_date text,end_date);'''\n",
        "conn.execute(X)\n",
        "print(\"Table created\")\n",
        "\n",
        "conn.commit()\n",
        "\n",
        "\n",
        "conn.close()"
      ],
      "metadata": {
        "colab": {
          "base_uri": "https://localhost:8080/"
        },
        "id": "Mv2l2ZuM4Odg",
        "outputId": "6b0063dc-4f24-4d6a-a57d-d9236144ee5d"
      },
      "execution_count": 9,
      "outputs": [
        {
          "output_type": "stream",
          "name": "stdout",
          "text": [
            "Table created\n"
          ]
        }
      ]
    },
    {
      "cell_type": "code",
      "source": [
        "import sqlite3\n",
        "\n",
        " \n",
        "X = sqlite3.connect('NeDB.db')\n",
        " \n",
        "Y = X.cursor()\n",
        "\n",
        " \n",
        "Y.execute('''CREATE TABLE Employee(date text, First_Name text, Last_Name text, Age real)''')\n",
        "\n",
        " \n",
        "Y.execute(\"INSERT INTO Employee VALUES ('2020-01-01','John','Adam',32)\")\n",
        " \n",
        "X.commit()\n",
        "\n",
        "Y.close()"
      ],
      "metadata": {
        "id": "Pu-k-c3X5CEl"
      },
      "execution_count": 10,
      "outputs": []
    },
    {
      "cell_type": "code",
      "source": [
        "import sqlite3\n",
        "\n",
        " \n",
        "X = sqlite3.connect('NeDB.db')\n",
        " \n",
        "Y = X.cursor()\n",
        "\n",
        " \n",
        "Y.execute('''CREATE TABLE Employee1(date text, First_Name text, Last_Name text, Age real)''')\n",
        "\n",
        " \n",
        "Y.execute(\"INSERT INTO Employee VALUES ('2020-01-01','John','Adam',32),('2020-01-01','Mike','Joseph',30),('2020-01-01','Ann','Maria',32);\")\n",
        "\n",
        " \n",
        "X.commit()\n",
        "\n",
        "Y.close()"
      ],
      "metadata": {
        "id": "oxiob7Qb6UKq"
      },
      "execution_count": 12,
      "outputs": []
    },
    {
      "cell_type": "code",
      "source": [
        "import samples\n",
        "\n",
        "conn=sqlite3.connect('NeDB.db')\n",
        "\n",
        "\n",
        "cursor=conn.cursor()\n",
        "\n",
        "\n",
        "table=\"\"\"CREATE TABLE STUDENT(NAME VARCHAR(255),CLASS VARCHAR(255),SECTION VARCHAR(255));\"\"\"\n",
        "cursor.execute(table)\n",
        "\n",
        "students=[('John','8','A'),\n",
        "          ('Adam','8','B'),\n",
        "          ('Ann','10','A'),]\n",
        "\n",
        "cursor.executemany('INSERT INTO STUDENT VALUES(?,?,?)',students)\n",
        "\n",
        "print(\"Data Inserted in the table:\")\n",
        "data=cursor.execute('''SELECT * FROM STUDENT''')\n",
        "for row in data:\n",
        "  print(row)\n",
        "\n",
        "\n",
        "conn.commit()\n",
        "\n",
        "\n",
        "conn.close()"
      ],
      "metadata": {
        "colab": {
          "base_uri": "https://localhost:8080/"
        },
        "id": "nzx9owMm9W3m",
        "outputId": "4534595e-7daf-498a-b9b5-660dff369144"
      },
      "execution_count": 14,
      "outputs": [
        {
          "output_type": "stream",
          "name": "stdout",
          "text": [
            "Data Inserted in the table:\n",
            "('John', '8', 'A')\n",
            "('Adam', '8', 'B')\n",
            "('Ann', '10', 'A')\n"
          ]
        }
      ]
    },
    {
      "cell_type": "code",
      "source": [
        "import sqlite3\n",
        " \n",
        "conn = sqlite3.connect('NewDB.db')\n",
        "\n",
        " \n",
        "cursor = conn.cursor()\n",
        "\n",
        " \n",
        "\n",
        "\n",
        "\n",
        "print(\"Data Inserted in the table: \")\n",
        "data=cursor.execute('''SELECT * FROM STUDENT''')\n",
        "for row in data:\n",
        "\tprint(row)\n",
        "\n",
        "\n",
        "conn.commit()\n",
        "\n",
        "conn.close()\n",
        "\n"
      ],
      "metadata": {
        "colab": {
          "base_uri": "https://localhost:8080/"
        },
        "id": "yb122MgM_irk",
        "outputId": "60e57d43-0bea-4872-bcd6-16069592d314"
      },
      "execution_count": 24,
      "outputs": [
        {
          "output_type": "stream",
          "name": "stdout",
          "text": [
            "Data Inserted in the table: \n",
            "('John', '8', 'A')\n",
            "('Adam', '8', 'B')\n",
            "('Ann', '10', 'A')\n"
          ]
        }
      ]
    },
    {
      "cell_type": "code",
      "source": [
        "import sqlite3\n",
        " \n",
        "conn = sqlite3.connect('NewDB.db')\n",
        "\n",
        " \n",
        "cursor = conn.cursor()\n",
        "\n",
        " \n",
        "\n",
        "\n",
        "\n",
        "cursor.execute(\"SELECT * FROM STUDENT WHERE CLASS = '10'\")\n",
        "\n",
        "print(cursor.fetchall())\n",
        "  \n",
        "conn.commit()\n",
        "conn.close()\n",
        "\n",
        "\n",
        "conn.close()"
      ],
      "metadata": {
        "colab": {
          "base_uri": "https://localhost:8080/"
        },
        "id": "Ikf9OTqqBqKN",
        "outputId": "206f0924-491d-42da-e17b-f5d666e3f546"
      },
      "execution_count": 25,
      "outputs": [
        {
          "output_type": "stream",
          "name": "stdout",
          "text": [
            "[('Ann', '10', 'A')]\n"
          ]
        }
      ]
    },
    {
      "cell_type": "code",
      "source": [
        "import sqlite3\n",
        " \n",
        "conn = sqlite3.connect('NewDB.db')\n",
        "\n",
        " \n",
        "cursor = conn.cursor()\n",
        "\n",
        " \n",
        "\n",
        "\n",
        "\n",
        "cursor.execute(\"SELECT * FROM STUDENT WHERE NAME Like'A%'\")\n",
        "\n",
        "print(cursor.fetchall())\n",
        "  \n",
        "conn.commit()\n",
        "conn.close()\n",
        "\n",
        "\n",
        "conn.close()"
      ],
      "metadata": {
        "colab": {
          "base_uri": "https://localhost:8080/"
        },
        "id": "p_7x8bluCUrT",
        "outputId": "821bf14c-9e46-4b3e-8770-3293973e2d49"
      },
      "execution_count": 26,
      "outputs": [
        {
          "output_type": "stream",
          "name": "stdout",
          "text": [
            "[('Adam', '8', 'B'), ('Ann', '10', 'A')]\n"
          ]
        }
      ]
    },
    {
      "cell_type": "code",
      "source": [
        "import sqlite3\n",
        " \n",
        "conn = sqlite3.connect('NewDB.db')\n",
        "\n",
        " \n",
        "cursor = conn.cursor()\n",
        "\n",
        " \n",
        "\n",
        "\n",
        "\n",
        "cursor.execute(\"SELECT * FROM STUDENT ORDER BY NAME\")\n",
        "\n",
        "print(cursor.fetchall())\n",
        "  \n",
        "conn.commit()\n",
        "conn.close()\n",
        "\n",
        "\n",
        "conn.close()"
      ],
      "metadata": {
        "colab": {
          "base_uri": "https://localhost:8080/"
        },
        "id": "JNk2I_6BCpTf",
        "outputId": "7e4b1981-09f4-433a-807a-542b447c20c2"
      },
      "execution_count": 28,
      "outputs": [
        {
          "output_type": "stream",
          "name": "stdout",
          "text": [
            "[('Adam', '8', 'B'), ('Ann', '10', 'A'), ('John', '8', 'A')]\n"
          ]
        }
      ]
    },
    {
      "cell_type": "code",
      "source": [
        "import sqlite3\n",
        " \n",
        "conn = sqlite3.connect('NewDB.db')\n",
        "\n",
        " \n",
        "cursor = conn.cursor()\n",
        "\n",
        "\n",
        "cursor.execute(\"SELECT * FROM STUDENT ORDER BY NAME DESC\")\n",
        "\n",
        "print(cursor.fetchall())\n",
        "  \n",
        "conn.commit()\n",
        "conn.close()\n",
        "\n",
        "\n",
        "conn.close()"
      ],
      "metadata": {
        "colab": {
          "base_uri": "https://localhost:8080/"
        },
        "id": "tYtYt7gyDLeV",
        "outputId": "e32c9439-3b94-4a9d-92b3-424bbb8c3d86"
      },
      "execution_count": 29,
      "outputs": [
        {
          "output_type": "stream",
          "name": "stdout",
          "text": [
            "[('John', '8', 'A'), ('Ann', '10', 'A'), ('Adam', '8', 'B')]\n"
          ]
        }
      ]
    },
    {
      "cell_type": "code",
      "source": [
        "import sqlite3\n",
        " \n",
        "conn = sqlite3.connect('NewDB.db')\n",
        "\n",
        " \n",
        "cursor = conn.cursor()\n",
        "\n",
        " \n",
        "\n",
        "\n",
        "\n",
        "cursor.execute(\"SELECT NAME, CLASS FROM STUDENT ORDER BY NAME DESC\")\n",
        "\n",
        "print(cursor.fetchall())\n",
        "  \n",
        "conn.commit()\n",
        "conn.close()\n",
        "\n",
        "\n",
        "conn.close()"
      ],
      "metadata": {
        "colab": {
          "base_uri": "https://localhost:8080/"
        },
        "id": "WMgao0J5Dkdb",
        "outputId": "280590c3-a98a-4f53-98c1-aba6349c2374"
      },
      "execution_count": 30,
      "outputs": [
        {
          "output_type": "stream",
          "name": "stdout",
          "text": [
            "[('John', '8'), ('Ann', '10'), ('Adam', '8')]\n"
          ]
        }
      ]
    },
    {
      "cell_type": "code",
      "source": [
        ""
      ],
      "metadata": {
        "id": "eRlSBX5ADxna"
      },
      "execution_count": null,
      "outputs": []
    }
  ]
}